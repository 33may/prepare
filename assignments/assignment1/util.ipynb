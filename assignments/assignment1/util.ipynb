{
 "cells": [
  {
   "cell_type": "code",
   "id": "initial_id",
   "metadata": {
    "collapsed": true,
    "ExecuteTime": {
     "end_time": "2024-11-12T21:29:36.901694Z",
     "start_time": "2024-11-12T21:29:36.823977Z"
    }
   },
   "source": "import numpy as np",
   "outputs": [],
   "execution_count": 1
  },
  {
   "metadata": {
    "ExecuteTime": {
     "end_time": "2024-11-12T21:35:00.500419Z",
     "start_time": "2024-11-12T21:35:00.493456Z"
    }
   },
   "cell_type": "code",
   "source": [
    "train_X = np.random.randint(1,6, size = (10, 4))\n",
    "test = np.random.randint(1,6, size = (5, 4))\n",
    "test_first = test[0]"
   ],
   "id": "4b8b1367220161da",
   "outputs": [],
   "execution_count": 9
  },
  {
   "metadata": {
    "ExecuteTime": {
     "end_time": "2024-11-12T22:14:59.860751Z",
     "start_time": "2024-11-12T22:14:59.851847Z"
    }
   },
   "cell_type": "code",
   "source": [
    "def compute_distances_two_loops(X):\n",
    "    num_train = train_X.shape[0]\n",
    "    num_test = X.shape[0]\n",
    "    dists = np.zeros((num_test, num_train), np.float32)\n",
    "    for i_test in range(num_test):\n",
    "        for i_train in range(num_train):\n",
    "            train_vector = train_X[i_train]\n",
    "            test_vector = X[i_test]\n",
    "\n",
    "            distance = np.sum(np.abs(train_vector - test_vector), axis = 0)\n",
    "\n",
    "            dists[i_test, i_train] = distance\n",
    "\n",
    "    return dists\n",
    "\n",
    "\n",
    "def compute_distances_one_loop(X):\n",
    "    \n",
    "    num_train = train_X.shape[0]\n",
    "    num_test = X.shape[0]\n",
    "    dists = np.zeros((num_test, num_train), np.float32)\n",
    "    for i_test in range(num_test):\n",
    "        \n",
    "        distances = train_X - X[i_test]\n",
    "        \n",
    "        norms = np.sum(np.abs(distances), axis=1)\n",
    "        dists[i_test] = norms\n",
    "    return dists\n",
    "\n",
    "\n",
    "def compute_distances_no_loops(X):\n",
    "    num_train = train_X.shape[0]\n",
    "    num_test = X.shape[0]\n",
    "    # Using float32 to to save memory - the default is float64\n",
    "    dists = np.zeros((num_test, num_train), np.float32)\n",
    "    \n",
    "    test_tensor = X[:, np.newaxis, :]\n",
    "    \n",
    "    train_tensor = train_X[np.newaxis, :, :]\n",
    "    \n",
    "    distances = train_tensor - test_tensor\n",
    "    \n",
    "    norms = np.sum(np.abs(distances), axis=2)\n",
    "\n",
    "    dists = norms\n",
    "    \n",
    "    return dists\n"
   ],
   "id": "9869dc208929bdd4",
   "outputs": [],
   "execution_count": 100
  },
  {
   "metadata": {
    "ExecuteTime": {
     "end_time": "2024-11-12T22:15:00.226164Z",
     "start_time": "2024-11-12T22:15:00.222250Z"
    }
   },
   "cell_type": "code",
   "source": [
    "two_loops_result = compute_distances_two_loops(test)\n",
    "\n",
    "two_loops_result"
   ],
   "id": "2f944bd5400b2973",
   "outputs": [
    {
     "data": {
      "text/plain": [
       "array([[ 8.,  6.,  8., 10.,  6.,  6.,  6.,  9.,  5.,  4.],\n",
       "       [ 7.,  5.,  5.,  9.,  7.,  3.,  5.,  8.,  4.,  5.],\n",
       "       [ 9.,  7.,  5.,  5.,  5.,  5.,  5.,  4., 10.,  7.],\n",
       "       [ 9.,  9.,  5.,  5.,  3.,  3.,  3.,  4.,  8.,  7.],\n",
       "       [ 4.,  8.,  0.,  6.,  6.,  2.,  4.,  7.,  7.,  8.]], dtype=float32)"
      ]
     },
     "execution_count": 101,
     "metadata": {},
     "output_type": "execute_result"
    }
   ],
   "execution_count": 101
  },
  {
   "metadata": {
    "ExecuteTime": {
     "end_time": "2024-11-12T22:15:00.653308Z",
     "start_time": "2024-11-12T22:15:00.648640Z"
    }
   },
   "cell_type": "code",
   "source": [
    "one_loop_result = compute_distances_one_loop(test)\n",
    "\n",
    "one_loop_result"
   ],
   "id": "3acfcf9bd1aa8da3",
   "outputs": [
    {
     "data": {
      "text/plain": [
       "array([[ 8.,  6.,  8., 10.,  6.,  6.,  6.,  9.,  5.,  4.],\n",
       "       [ 7.,  5.,  5.,  9.,  7.,  3.,  5.,  8.,  4.,  5.],\n",
       "       [ 9.,  7.,  5.,  5.,  5.,  5.,  5.,  4., 10.,  7.],\n",
       "       [ 9.,  9.,  5.,  5.,  3.,  3.,  3.,  4.,  8.,  7.],\n",
       "       [ 4.,  8.,  0.,  6.,  6.,  2.,  4.,  7.,  7.,  8.]], dtype=float32)"
      ]
     },
     "execution_count": 102,
     "metadata": {},
     "output_type": "execute_result"
    }
   ],
   "execution_count": 102
  },
  {
   "metadata": {
    "ExecuteTime": {
     "end_time": "2024-11-12T22:15:01.069449Z",
     "start_time": "2024-11-12T22:15:01.066629Z"
    }
   },
   "cell_type": "code",
   "source": [
    "no_loops_result = compute_distances_no_loops(test)\n",
    "\n",
    "no_loops_result"
   ],
   "id": "a17e67c0cceb2d11",
   "outputs": [
    {
     "data": {
      "text/plain": [
       "array([[ 8,  6,  8, 10,  6,  6,  6,  9,  5,  4],\n",
       "       [ 7,  5,  5,  9,  7,  3,  5,  8,  4,  5],\n",
       "       [ 9,  7,  5,  5,  5,  5,  5,  4, 10,  7],\n",
       "       [ 9,  9,  5,  5,  3,  3,  3,  4,  8,  7],\n",
       "       [ 4,  8,  0,  6,  6,  2,  4,  7,  7,  8]])"
      ]
     },
     "execution_count": 103,
     "metadata": {},
     "output_type": "execute_result"
    }
   ],
   "execution_count": 103
  },
  {
   "metadata": {
    "ExecuteTime": {
     "end_time": "2024-11-12T21:48:16.208679Z",
     "start_time": "2024-11-12T21:48:16.187209Z"
    }
   },
   "cell_type": "code",
   "source": "train_X",
   "id": "a6b52be6b2f5de68",
   "outputs": [
    {
     "data": {
      "text/plain": [
       "array([[1, 3, 5, 1],\n",
       "       [1, 5, 4, 4],\n",
       "       [2, 2, 3, 1],\n",
       "       [1, 1, 5, 3],\n",
       "       [5, 2, 2, 3],\n",
       "       [3, 2, 3, 2],\n",
       "       [3, 1, 4, 2],\n",
       "       [4, 1, 3, 5],\n",
       "       [4, 5, 1, 1],\n",
       "       [5, 4, 3, 4]])"
      ]
     },
     "execution_count": 36,
     "metadata": {},
     "output_type": "execute_result"
    }
   ],
   "execution_count": 36
  },
  {
   "metadata": {
    "ExecuteTime": {
     "end_time": "2024-11-12T21:48:20.356043Z",
     "start_time": "2024-11-12T21:48:20.350203Z"
    }
   },
   "cell_type": "code",
   "source": "test",
   "id": "7d06c79dea33845a",
   "outputs": [
    {
     "data": {
      "text/plain": [
       "array([[5, 5, 4, 2],\n",
       "       [3, 5, 3, 2],\n",
       "       [2, 1, 2, 4],\n",
       "       [3, 1, 2, 3],\n",
       "       [2, 2, 3, 1]])"
      ]
     },
     "execution_count": 37,
     "metadata": {},
     "output_type": "execute_result"
    }
   ],
   "execution_count": 37
  },
  {
   "metadata": {
    "ExecuteTime": {
     "end_time": "2024-11-12T22:03:29.374001Z",
     "start_time": "2024-11-12T22:03:29.349479Z"
    }
   },
   "cell_type": "code",
   "source": "test[:,np.newaxis, :]",
   "id": "af700eebe80dd4e4",
   "outputs": [
    {
     "data": {
      "text/plain": [
       "array([[[5, 5, 4, 2]],\n",
       "\n",
       "       [[3, 5, 3, 2]],\n",
       "\n",
       "       [[2, 1, 2, 4]],\n",
       "\n",
       "       [[3, 1, 2, 3]],\n",
       "\n",
       "       [[2, 2, 3, 1]]])"
      ]
     },
     "execution_count": 62,
     "metadata": {},
     "output_type": "execute_result"
    }
   ],
   "execution_count": 62
  },
  {
   "metadata": {
    "ExecuteTime": {
     "end_time": "2024-11-12T22:06:58.662543Z",
     "start_time": "2024-11-12T22:06:58.656434Z"
    }
   },
   "cell_type": "code",
   "source": "distances = train_X[np.newaxis, :, :] - test[:,np.newaxis, :]",
   "id": "ed30394258b3cb60",
   "outputs": [],
   "execution_count": 79
  },
  {
   "metadata": {
    "ExecuteTime": {
     "end_time": "2024-11-12T22:06:58.980154Z",
     "start_time": "2024-11-12T22:06:58.972674Z"
    }
   },
   "cell_type": "code",
   "source": "distances.shape",
   "id": "7161112a8ea79468",
   "outputs": [
    {
     "data": {
      "text/plain": [
       "(5, 10, 4)"
      ]
     },
     "execution_count": 80,
     "metadata": {},
     "output_type": "execute_result"
    }
   ],
   "execution_count": 80
  },
  {
   "metadata": {
    "ExecuteTime": {
     "end_time": "2024-11-12T22:06:59.432630Z",
     "start_time": "2024-11-12T22:06:59.427826Z"
    }
   },
   "cell_type": "code",
   "source": "distances",
   "id": "8035f6984a252349",
   "outputs": [
    {
     "data": {
      "text/plain": [
       "array([[[-4, -2,  1, -1],\n",
       "        [-4,  0,  0,  2],\n",
       "        [-3, -3, -1, -1],\n",
       "        [-4, -4,  1,  1],\n",
       "        [ 0, -3, -2,  1],\n",
       "        [-2, -3, -1,  0],\n",
       "        [-2, -4,  0,  0],\n",
       "        [-1, -4, -1,  3],\n",
       "        [-1,  0, -3, -1],\n",
       "        [ 0, -1, -1,  2]],\n",
       "\n",
       "       [[-2, -2,  2, -1],\n",
       "        [-2,  0,  1,  2],\n",
       "        [-1, -3,  0, -1],\n",
       "        [-2, -4,  2,  1],\n",
       "        [ 2, -3, -1,  1],\n",
       "        [ 0, -3,  0,  0],\n",
       "        [ 0, -4,  1,  0],\n",
       "        [ 1, -4,  0,  3],\n",
       "        [ 1,  0, -2, -1],\n",
       "        [ 2, -1,  0,  2]],\n",
       "\n",
       "       [[-1,  2,  3, -3],\n",
       "        [-1,  4,  2,  0],\n",
       "        [ 0,  1,  1, -3],\n",
       "        [-1,  0,  3, -1],\n",
       "        [ 3,  1,  0, -1],\n",
       "        [ 1,  1,  1, -2],\n",
       "        [ 1,  0,  2, -2],\n",
       "        [ 2,  0,  1,  1],\n",
       "        [ 2,  4, -1, -3],\n",
       "        [ 3,  3,  1,  0]],\n",
       "\n",
       "       [[-2,  2,  3, -2],\n",
       "        [-2,  4,  2,  1],\n",
       "        [-1,  1,  1, -2],\n",
       "        [-2,  0,  3,  0],\n",
       "        [ 2,  1,  0,  0],\n",
       "        [ 0,  1,  1, -1],\n",
       "        [ 0,  0,  2, -1],\n",
       "        [ 1,  0,  1,  2],\n",
       "        [ 1,  4, -1, -2],\n",
       "        [ 2,  3,  1,  1]],\n",
       "\n",
       "       [[-1,  1,  2,  0],\n",
       "        [-1,  3,  1,  3],\n",
       "        [ 0,  0,  0,  0],\n",
       "        [-1, -1,  2,  2],\n",
       "        [ 3,  0, -1,  2],\n",
       "        [ 1,  0,  0,  1],\n",
       "        [ 1, -1,  1,  1],\n",
       "        [ 2, -1,  0,  4],\n",
       "        [ 2,  3, -2,  0],\n",
       "        [ 3,  2,  0,  3]]])"
      ]
     },
     "execution_count": 81,
     "metadata": {},
     "output_type": "execute_result"
    }
   ],
   "execution_count": 81
  },
  {
   "metadata": {
    "ExecuteTime": {
     "end_time": "2024-11-12T22:07:01.202158Z",
     "start_time": "2024-11-12T22:07:01.179913Z"
    }
   },
   "cell_type": "code",
   "source": [
    "res = np.sum(np.abs(distances), axis=2)\n",
    "distances = train_X[np.newaxis, :, :] - test[:,np.newaxis, :]\n",
    "res"
   ],
   "id": "cd26c8f1c1116053",
   "outputs": [
    {
     "data": {
      "text/plain": [
       "array([[ 8,  6,  8, 10,  6,  6,  6,  9,  5,  4],\n",
       "       [ 7,  5,  5,  9,  7,  3,  5,  8,  4,  5],\n",
       "       [ 9,  7,  5,  5,  5,  5,  5,  4, 10,  7],\n",
       "       [ 9,  9,  5,  5,  3,  3,  3,  4,  8,  7],\n",
       "       [ 4,  8,  0,  6,  6,  2,  4,  7,  7,  8]])"
      ]
     },
     "execution_count": 82,
     "metadata": {},
     "output_type": "execute_result"
    }
   ],
   "execution_count": 82
  },
  {
   "metadata": {
    "ExecuteTime": {
     "end_time": "2024-11-17T22:57:50.538923Z",
     "start_time": "2024-11-17T22:57:50.535187Z"
    }
   },
   "cell_type": "code",
   "source": [
    "def good_students(colegium):\n",
    "    avg_grade = sum(student[2] for student in colegium) / len(colegium)\n",
    "    good_students_list = [student[0] for student in colegium if student[2] > avg_grade]\n",
    "    print(f\"Студенти {', '.join(good_students_list)} у поточному семестрі навчалися добре.\")\n",
    "\n",
    "colegium = (\n",
    "    (\"Ivanov\", 20, 60),\n",
    "    (\"Kori\", 18, 73),\n",
    "    (\"Gonchar\", 19, 76),\n",
    "    (\"Afonov\", 20, 67),\n",
    "    (\"Kornilov\", 18, 85),\n",
    "    (\"Besarab\", 18, 88),\n",
    "    (\"Frolov\", 19, 90),\n",
    ")\n",
    "\n",
    "good_students(colegium)"
   ],
   "id": "9b3cc151fab03da5",
   "outputs": [
    {
     "name": "stdout",
     "output_type": "stream",
     "text": [
      "Студенти Kornilov, Besarab, Frolov у поточному семестрі навчалися добре.\n"
     ]
    }
   ],
   "execution_count": 1
  },
  {
   "metadata": {
    "ExecuteTime": {
     "end_time": "2024-11-17T23:01:23.729001Z",
     "start_time": "2024-11-17T23:01:23.630354Z"
    }
   },
   "cell_type": "code",
   "source": "import numpy as np",
   "id": "cd11b6276885aa97",
   "outputs": [],
   "execution_count": 3
  },
  {
   "metadata": {
    "ExecuteTime": {
     "end_time": "2024-11-17T23:01:24.112742Z",
     "start_time": "2024-11-17T23:01:24.109564Z"
    }
   },
   "cell_type": "code",
   "source": [
    "def good_students(colegium):\n",
    "    colegium_array = np.array(colegium, dtype=object)\n",
    "    print(f\"Студенти {', '.join(colegium_array[colegium_array[:, 2].astype(float) > np.mean(colegium_array[:, 2].astype(float)), 0])} у поточному семестрі навчалися добре.\")\n",
    "\n",
    "good_students(colegium)\n"
   ],
   "id": "978cbc94964f143b",
   "outputs": [
    {
     "name": "stdout",
     "output_type": "stream",
     "text": [
      "Студенти Kornilov, Besarab, Frolov у поточному семестрі навчалися добре.\n"
     ]
    }
   ],
   "execution_count": 4
  },
  {
   "metadata": {},
   "cell_type": "code",
   "outputs": [],
   "execution_count": null,
   "source": "",
   "id": "c9597c429c470f46"
  }
 ],
 "metadata": {
  "kernelspec": {
   "display_name": "Python 3",
   "language": "python",
   "name": "python3"
  },
  "language_info": {
   "codemirror_mode": {
    "name": "ipython",
    "version": 2
   },
   "file_extension": ".py",
   "mimetype": "text/x-python",
   "name": "python",
   "nbconvert_exporter": "python",
   "pygments_lexer": "ipython2",
   "version": "2.7.6"
  }
 },
 "nbformat": 4,
 "nbformat_minor": 5
}
