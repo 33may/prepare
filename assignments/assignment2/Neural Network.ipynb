version https://git-lfs.github.com/spec/v1
oid sha256:a1d665252439d68f8a6b6767be90de908d7f54c9684f3ccc5902a111109ee3de
size 203175
