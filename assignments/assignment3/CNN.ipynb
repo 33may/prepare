version https://git-lfs.github.com/spec/v1
oid sha256:bbfc160ba8f6909626918a034298655208f9dc6f9093bd5f1c087682150d61e6
size 412857
