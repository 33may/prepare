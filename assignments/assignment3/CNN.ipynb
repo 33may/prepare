version https://git-lfs.github.com/spec/v1
oid sha256:53ba934b850fd1e1e3dab1884fc75b2dbaf4002144f832df7de663b18fdb75d6
size 352063
